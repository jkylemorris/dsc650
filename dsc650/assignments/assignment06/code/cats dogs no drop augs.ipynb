{
 "cells": [
  {
   "cell_type": "code",
   "execution_count": 12,
   "metadata": {},
   "outputs": [],
   "source": [
    "import os, shutil\n",
    "from pathlib import Path\n",
    "from keras import layers\n",
    "from keras import models\n",
    "from keras.utils import to_categorical\n",
    "from keras import optimizers\n",
    "import matplotlib.pyplot as plt\n",
    "import numpy as np\n",
    "from keras.preprocessing.image import ImageDataGenerator\n",
    "\n",
    "current_dir = Path(os.getcwd()).absolute()\n",
    "original_dataset_dir = current_dir.joinpath('kaggle_data')\n",
    "original_train_dir = original_dataset_dir.joinpath('train')\n",
    "original_test_dir = original_dataset_dir.joinpath('test1')\n",
    "\n",
    "train_dir = current_dir.joinpath('train')\n",
    "train_dir.mkdir(parents=True, exist_ok=True)\n",
    "validation_dir = current_dir.joinpath('validation')\n",
    "validation_dir.mkdir(parents=True, exist_ok=True)\n",
    "test_dir = current_dir.joinpath('test')\n",
    "test_dir.mkdir(parents=True, exist_ok=True)\n",
    "train_cats_dir = train_dir.joinpath('cats')\n",
    "train_cats_dir.mkdir(parents=True, exist_ok=True)\n",
    "\n",
    "train_dogs_dir = train_dir.joinpath('dogs')\n",
    "train_dogs_dir.mkdir(parents=True, exist_ok=True)\n",
    "\n",
    "validation_cats_dir  = validation_dir.joinpath('cats')\n",
    "validation_cats_dir.mkdir(parents=True, exist_ok=True)\n",
    "\n",
    "validation_dogs_dir = validation_dir.joinpath('dogs')\n",
    "validation_dogs_dir.mkdir(parents=True, exist_ok=True)\n",
    "\n",
    "test_cats_dir = test_dir.joinpath('cats')\n",
    "test_cats_dir.mkdir(parents=True, exist_ok=True)\n",
    "\n",
    "test_dogs_dir = test_dir.joinpath('dogs')\n",
    "test_dogs_dir.mkdir(parents=True, exist_ok=True)"
   ]
  },
  {
   "cell_type": "code",
   "execution_count": 13,
   "metadata": {},
   "outputs": [],
   "source": [
    "fnames = ['cat.{}.jpg'.format(i) for i in range(1000)]\n",
    "for fname in fnames:\n",
    "    src = original_train_dir.joinpath(fname)\n",
    "    dst = train_cats_dir.joinpath(fname)\n",
    "    shutil.copyfile(src, dst)\n",
    "\n",
    "fnames = ['cat.{}.jpg'.format(i) for i in range(1000, 1500)]\n",
    "for fname in fnames:\n",
    "    src = original_train_dir.joinpath(fname)\n",
    "    dst = validation_cats_dir.joinpath(fname)\n",
    "    shutil.copyfile(src, dst)\n",
    "    \n",
    "fnames = ['cat.{}.jpg'.format(i) for i in range(1500, 2000)]\n",
    "for fname in fnames:\n",
    "    src = original_train_dir.joinpath(fname)\n",
    "    dst = test_cats_dir.joinpath(fname)\n",
    "    shutil.copyfile(src, dst)\n",
    "    \n",
    "fnames = ['dog.{}.jpg'.format(i) for i in range(1000)]\n",
    "for fname in fnames:\n",
    "    src = original_train_dir.joinpath(fname)\n",
    "    dst = train_dogs_dir.joinpath(fname)\n",
    "    shutil.copyfile(src, dst)\n",
    "\n",
    "fnames = ['dog.{}.jpg'.format(i) for i in range(1000, 1500)]\n",
    "for fname in fnames:\n",
    "    src = original_train_dir.joinpath(fname)\n",
    "    dst = validation_dogs_dir.joinpath(fname)\n",
    "    shutil.copyfile(src, dst)\n",
    "    \n",
    "fnames = ['dog.{}.jpg'.format(i) for i in range(1500, 2000)]\n",
    "for fname in fnames:\n",
    "    src = original_train_dir.joinpath(fname)\n",
    "    dst = test_dogs_dir.joinpath(fname)\n",
    "    shutil.copyfile(src, dst)"
   ]
  },
  {
   "cell_type": "code",
   "execution_count": 14,
   "metadata": {},
   "outputs": [
    {
     "name": "stdout",
     "output_type": "stream",
     "text": [
      "total train cat images: 1000\n",
      "total train dog images: 1000\n",
      "total validation cat images: 500\n",
      "total validation dog images: 500\n",
      "total test cat images: 500\n",
      "total test dog images: 500\n"
     ]
    }
   ],
   "source": [
    "print('total train cat images:', len(os.listdir(train_cats_dir)))\n",
    "print('total train dog images:', len(os.listdir(train_dogs_dir)))\n",
    "print('total validation cat images:', len(os.listdir(validation_cats_dir)))\n",
    "print('total validation dog images:', len(os.listdir(validation_dogs_dir)))\n",
    "print('total test cat images:', len(os.listdir(test_cats_dir)))\n",
    "print('total test dog images:', len(os.listdir(test_dogs_dir)))"
   ]
  },
  {
   "cell_type": "code",
   "execution_count": 15,
   "metadata": {},
   "outputs": [],
   "source": [
    "model = models.Sequential()\n",
    "model.add(layers.Conv2D(32, (3, 3), activation = 'relu', input_shape = (150, 150, 3)))\n",
    "model.add(layers.MaxPooling2D((2, 2)))\n",
    "model.add(layers.Conv2D(64, (3, 3), activation = 'relu'))\n",
    "model.add(layers.MaxPooling2D((2, 2)))\n",
    "model.add(layers.Conv2D(128, (3, 3), activation = 'relu'))\n",
    "model.add(layers.MaxPooling2D((2, 2)))\n",
    "model.add(layers.Conv2D(128, (3, 3), activation = 'relu'))\n",
    "model.add(layers.MaxPooling2D((2, 2)))\n",
    "model.add(layers.Flatten())\n",
    "model.add(layers.Dense(512, activation = 'relu'))\n",
    "model.add(layers.Dense(1, activation = 'sigmoid'))"
   ]
  },
  {
   "cell_type": "code",
   "execution_count": 16,
   "metadata": {},
   "outputs": [
    {
     "name": "stdout",
     "output_type": "stream",
     "text": [
      "Model: \"sequential_1\"\n",
      "_________________________________________________________________\n",
      "Layer (type)                 Output Shape              Param #   \n",
      "=================================================================\n",
      "conv2d_4 (Conv2D)            (None, 148, 148, 32)      896       \n",
      "_________________________________________________________________\n",
      "max_pooling2d_4 (MaxPooling2 (None, 74, 74, 32)        0         \n",
      "_________________________________________________________________\n",
      "conv2d_5 (Conv2D)            (None, 72, 72, 64)        18496     \n",
      "_________________________________________________________________\n",
      "max_pooling2d_5 (MaxPooling2 (None, 36, 36, 64)        0         \n",
      "_________________________________________________________________\n",
      "conv2d_6 (Conv2D)            (None, 34, 34, 128)       73856     \n",
      "_________________________________________________________________\n",
      "max_pooling2d_6 (MaxPooling2 (None, 17, 17, 128)       0         \n",
      "_________________________________________________________________\n",
      "conv2d_7 (Conv2D)            (None, 15, 15, 128)       147584    \n",
      "_________________________________________________________________\n",
      "max_pooling2d_7 (MaxPooling2 (None, 7, 7, 128)         0         \n",
      "_________________________________________________________________\n",
      "flatten_1 (Flatten)          (None, 6272)              0         \n",
      "_________________________________________________________________\n",
      "dense_2 (Dense)              (None, 512)               3211776   \n",
      "_________________________________________________________________\n",
      "dense_3 (Dense)              (None, 1)                 513       \n",
      "=================================================================\n",
      "Total params: 3,453,121\n",
      "Trainable params: 3,453,121\n",
      "Non-trainable params: 0\n",
      "_________________________________________________________________\n"
     ]
    }
   ],
   "source": [
    "model.summary()"
   ]
  },
  {
   "cell_type": "code",
   "execution_count": 17,
   "metadata": {},
   "outputs": [],
   "source": [
    "model.compile(loss = 'binary_crossentropy', optimizer = optimizers.RMSprop(lr = 1e-4), metrics = ['acc'])"
   ]
  },
  {
   "cell_type": "code",
   "execution_count": 18,
   "metadata": {},
   "outputs": [
    {
     "name": "stdout",
     "output_type": "stream",
     "text": [
      "Found 2000 images belonging to 2 classes.\n"
     ]
    }
   ],
   "source": [
    "train_datagen = ImageDataGenerator(rescale=1./255)\n",
    "test_datagen = ImageDataGenerator(rescale=1./255)\n",
    "\n",
    "train_generator = train_datagen.flow_from_directory(\n",
    "    train_dir,\n",
    "    target_size = (150, 150),\n",
    "    batch_size = 20,\n",
    "    class_mode = 'binary')"
   ]
  },
  {
   "cell_type": "code",
   "execution_count": 19,
   "metadata": {},
   "outputs": [
    {
     "name": "stdout",
     "output_type": "stream",
     "text": [
      "Found 1000 images belonging to 2 classes.\n"
     ]
    }
   ],
   "source": [
    "validation_generator = test_datagen.flow_from_directory(\n",
    "    validation_dir,\n",
    "    target_size = (150, 150),\n",
    "    batch_size = 20,\n",
    "    class_mode = 'binary')"
   ]
  },
  {
   "cell_type": "code",
   "execution_count": 20,
   "metadata": {},
   "outputs": [
    {
     "name": "stdout",
     "output_type": "stream",
     "text": [
      "data batch shape: (20, 150, 150, 3)\n",
      "labels batch shape: (20,)\n"
     ]
    }
   ],
   "source": [
    "for data_batch, labels_batch in train_generator:\n",
    "    print('data batch shape:', data_batch.shape)\n",
    "    print('labels batch shape:', labels_batch.shape)\n",
    "    break\n",
    "    "
   ]
  },
  {
   "cell_type": "code",
   "execution_count": 21,
   "metadata": {},
   "outputs": [
    {
     "name": "stdout",
     "output_type": "stream",
     "text": [
      "Epoch 1/30\n",
      "100/100 [==============================] - 22s 220ms/step - loss: 0.6893 - acc: 0.5230 - val_loss: 0.6713 - val_acc: 0.5720\n",
      "Epoch 2/30\n",
      "100/100 [==============================] - 21s 213ms/step - loss: 0.6574 - acc: 0.6080 - val_loss: 0.6489 - val_acc: 0.5910\n",
      "Epoch 3/30\n",
      "100/100 [==============================] - 21s 209ms/step - loss: 0.6051 - acc: 0.6690 - val_loss: 0.6253 - val_acc: 0.6270\n",
      "Epoch 4/30\n",
      "100/100 [==============================] - 21s 206ms/step - loss: 0.5687 - acc: 0.7050 - val_loss: 0.6019 - val_acc: 0.6700\n",
      "Epoch 5/30\n",
      "100/100 [==============================] - 21s 210ms/step - loss: 0.5356 - acc: 0.7320 - val_loss: 0.6337 - val_acc: 0.6620\n",
      "Epoch 6/30\n",
      "100/100 [==============================] - 21s 209ms/step - loss: 0.5094 - acc: 0.7440 - val_loss: 0.5655 - val_acc: 0.7060\n",
      "Epoch 7/30\n",
      "100/100 [==============================] - 21s 208ms/step - loss: 0.4846 - acc: 0.7710 - val_loss: 0.6504 - val_acc: 0.6270\n",
      "Epoch 8/30\n",
      "100/100 [==============================] - 21s 208ms/step - loss: 0.4587 - acc: 0.7795 - val_loss: 0.5830 - val_acc: 0.6840\n",
      "Epoch 9/30\n",
      "100/100 [==============================] - 21s 211ms/step - loss: 0.4363 - acc: 0.7955 - val_loss: 0.5756 - val_acc: 0.7070\n",
      "Epoch 10/30\n",
      "100/100 [==============================] - 21s 211ms/step - loss: 0.4184 - acc: 0.8130 - val_loss: 0.5515 - val_acc: 0.7150\n",
      "Epoch 11/30\n",
      "100/100 [==============================] - 21s 209ms/step - loss: 0.3845 - acc: 0.8300 - val_loss: 0.5432 - val_acc: 0.7300\n",
      "Epoch 12/30\n",
      "100/100 [==============================] - 21s 207ms/step - loss: 0.3643 - acc: 0.8400 - val_loss: 0.5289 - val_acc: 0.7390\n",
      "Epoch 13/30\n",
      "100/100 [==============================] - 21s 209ms/step - loss: 0.3321 - acc: 0.8530 - val_loss: 0.5634 - val_acc: 0.7340\n",
      "Epoch 14/30\n",
      "100/100 [==============================] - 21s 210ms/step - loss: 0.3111 - acc: 0.8665 - val_loss: 0.6139 - val_acc: 0.7120\n",
      "Epoch 15/30\n",
      "100/100 [==============================] - 21s 209ms/step - loss: 0.2871 - acc: 0.8870 - val_loss: 0.5607 - val_acc: 0.7360\n",
      "Epoch 16/30\n",
      "100/100 [==============================] - 21s 210ms/step - loss: 0.2644 - acc: 0.9000 - val_loss: 0.5596 - val_acc: 0.7460\n",
      "Epoch 17/30\n",
      "100/100 [==============================] - 21s 209ms/step - loss: 0.2483 - acc: 0.9005 - val_loss: 0.6094 - val_acc: 0.7460\n",
      "Epoch 18/30\n",
      "100/100 [==============================] - 21s 207ms/step - loss: 0.2255 - acc: 0.9185 - val_loss: 0.6076 - val_acc: 0.7410\n",
      "Epoch 19/30\n",
      "100/100 [==============================] - 21s 207ms/step - loss: 0.1997 - acc: 0.9230 - val_loss: 0.5912 - val_acc: 0.7440\n",
      "Epoch 20/30\n",
      "100/100 [==============================] - 21s 212ms/step - loss: 0.1814 - acc: 0.9305 - val_loss: 0.6977 - val_acc: 0.7240\n",
      "Epoch 21/30\n",
      "100/100 [==============================] - 21s 212ms/step - loss: 0.1707 - acc: 0.9370 - val_loss: 0.6641 - val_acc: 0.7390\n",
      "Epoch 22/30\n",
      "100/100 [==============================] - 21s 211ms/step - loss: 0.1357 - acc: 0.9540 - val_loss: 0.7015 - val_acc: 0.7380\n",
      "Epoch 23/30\n",
      "100/100 [==============================] - 21s 209ms/step - loss: 0.1301 - acc: 0.9555 - val_loss: 0.7144 - val_acc: 0.7280\n",
      "Epoch 24/30\n",
      "100/100 [==============================] - 21s 210ms/step - loss: 0.1207 - acc: 0.9580 - val_loss: 0.7237 - val_acc: 0.7430\n",
      "Epoch 25/30\n",
      "100/100 [==============================] - 21s 210ms/step - loss: 0.0935 - acc: 0.9700 - val_loss: 0.8587 - val_acc: 0.7220\n",
      "Epoch 26/30\n",
      "100/100 [==============================] - 21s 209ms/step - loss: 0.0926 - acc: 0.9690 - val_loss: 0.7867 - val_acc: 0.7250\n",
      "Epoch 27/30\n",
      "100/100 [==============================] - 21s 210ms/step - loss: 0.0792 - acc: 0.9790 - val_loss: 0.7718 - val_acc: 0.7400\n",
      "Epoch 28/30\n",
      "100/100 [==============================] - 21s 210ms/step - loss: 0.0571 - acc: 0.9885 - val_loss: 1.0644 - val_acc: 0.7000\n",
      "Epoch 29/30\n",
      "100/100 [==============================] - 21s 209ms/step - loss: 0.0568 - acc: 0.9865 - val_loss: 0.8749 - val_acc: 0.7340\n",
      "Epoch 30/30\n",
      "100/100 [==============================] - 21s 211ms/step - loss: 0.0562 - acc: 0.9850 - val_loss: 1.0054 - val_acc: 0.7230\n"
     ]
    }
   ],
   "source": [
    "history = model.fit_generator(\n",
    "    train_generator,\n",
    "    steps_per_epoch = 100,\n",
    "    epochs = 30,\n",
    "    validation_data  = validation_generator,\n",
    "    validation_steps = 50)\n",
    "\n",
    "model.save('cats_and_dogs_small_1.h5')"
   ]
  },
  {
   "cell_type": "code",
   "execution_count": 22,
   "metadata": {},
   "outputs": [
    {
     "data": {
      "text/plain": [
       "<Figure size 432x288 with 0 Axes>"
      ]
     },
     "execution_count": 22,
     "metadata": {},
     "output_type": "execute_result"
    },
    {
     "data": {
      "image/png": "[encoded data removed]",
      "text/plain": [
       "<Figure size 432x288 with 1 Axes>"
      ]
     },
     "metadata": {
      "needs_background": "light"
     },
     "output_type": "display_data"
    },
    {
     "data": {
      "text/plain": [
       "<Figure size 432x288 with 0 Axes>"
      ]
     },
     "metadata": {},
     "output_type": "display_data"
    }
   ],
   "source": [
    "acc = history.history['acc']\n",
    "val_acc = history.history['val_acc']\n",
    "loss = history.history['loss']\n",
    "val_loss = history.history['val_loss']\n",
    "\n",
    "epochs = range(1, len(acc)+1)\n",
    "\n",
    "plt.plot(epochs, acc, 'bo', label = 'Training acc')\n",
    "plt.plot(epochs, val_acc, 'b', label = 'Validation acc')\n",
    "plt.title('Training and validation accuracy')\n",
    "plt.legend()\n",
    "plt.figure()\n",
    "\n",
    "    "
   ]
  },
  {
   "cell_type": "code",
   "execution_count": 23,
   "metadata": {},
   "outputs": [
    {
     "data": {
      "image/png": "[encoded data removed]",
      "text/plain": [
       "<Figure size 432x288 with 1 Axes>"
      ]
     },
     "metadata": {
      "needs_background": "light"
     },
     "output_type": "display_data"
    }
   ],
   "source": [
    "plt.plot(epochs, loss, 'bo', label = 'Training loss')\n",
    "plt.plot(epochs, val_loss, 'b', label = 'Validation loss')\n",
    "plt.title('Training and validatin loss')\n",
    "plt.legend()\n",
    "plt.show()"
   ]
  },
  {
   "cell_type": "code",
   "execution_count": null,
   "metadata": {},
   "outputs": [],
   "source": []
  }
 ],
 "metadata": {
  "kernelspec": {
   "display_name": "Python 3",
   "language": "python",
   "name": "python3"
  },
  "language_info": {
   "codemirror_mode": {
    "name": "ipython",
    "version": 3
   },
   "file_extension": ".py",
   "mimetype": "text/x-python",
   "name": "python",
   "nbconvert_exporter": "python",
   "pygments_lexer": "ipython3",
   "version": "3.8.3"
  }
 },
 "nbformat": 4,
 "nbformat_minor": 4
}
