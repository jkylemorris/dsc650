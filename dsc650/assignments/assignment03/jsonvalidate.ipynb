{
 "cells": [
  {
   "cell_type": "code",
   "execution_count": 73,
   "metadata": {},
   "outputs": [],
   "source": [
    "from jsonschema import validate\n",
    "import json"
   ]
  },
  {
   "cell_type": "code",
   "execution_count": null,
   "metadata": {},
   "outputs": [],
   "source": []
  },
  {
   "cell_type": "code",
   "execution_count": 74,
   "metadata": {},
   "outputs": [],
   "source": [
    "with open('routes-schema.json') as json_schema:\n",
    "    schema = json.load(json_schema)\n",
    "\n",
    "with open('routes.jsonl', 'r') as json_file:\n",
    "    json_list = list(json_file)\n",
    "\n",
    "for json_str in json_list:\n",
    "    result = json.loads(json_str)\n",
    "   # print(\"result: {}\".format(result))\n",
    "    #print(isinstance(result, dict))\n",
    "    validate(instance=result, schema=schema)\n",
    "\n",
    "#validate(instance={\"airport_id\" : \"34\", \"price\" : \"45\"}, schema=schema)"
   ]
  },
  {
   "cell_type": "code",
   "execution_count": 75,
   "metadata": {},
   "outputs": [
    {
     "name": "stdout",
     "output_type": "stream",
     "text": [
      "{\"airline\": {\"airline_id\": 410, \"name\": \"Aerocondor\", \"alias\": \"ANA All Nippon Airways\", \"iata\": \"2B\", \"icao\": \"ARD\", \"callsign\": \"AEROCONDOR\", \"country\": \"Portugal\", \"active\": true}, \"src_airport\": {\"airport_id\": 2965, \"name\": \"Sochi International Airport\", \"city\": \"Sochi\", \"country\": \"Russia\", \"iata\": \"AER\", \"icao\": \"URSS\", \"latitude\": 43.449902, \"longitude\": 39.9566, \"altitude\": 89, \"timezone\": 3.0, \"dst\": \"N\", \"tz_id\": \"Europe/Moscow\", \"type\": \"airport\", \"source\": \"OurAirports\"}, \"dst_airport\": {\"airport_id\": 2990, \"name\": \"Kazan International Airport\", \"city\": \"Kazan\", \"country\": \"Russia\", \"iata\": \"KZN\", \"icao\": \"UWKD\", \"latitude\": 55.606201171875, \"longitude\": 49.278701782227, \"altitude\": 411, \"timezone\": 3.0, \"dst\": \"N\", \"tz_id\": \"Europe/Moscow\", \"type\": \"airport\", \"source\": \"OurAirports\"}, \"codeshare\": false, \"equipment\": [\"CR2\"]}\n",
      "\n"
     ]
    }
   ],
   "source": [
    "print(json_list[0])"
   ]
  },
  {
   "cell_type": "code",
   "execution_count": 76,
   "metadata": {},
   "outputs": [
    {
     "name": "stdout",
     "output_type": "stream",
     "text": [
      "{'airline': {'airline_id': {'type': 'number'}, 'name': {'type': 'string'}, 'alias': {'type': 'string'}, 'iata': {'type': 'string'}, 'icao': {'type': 'string'}, 'callsign': {'type': 'string'}, 'country': {'type': 'string'}, 'boolean': {'type': 'string'}}, 'src_airport': {'airport_id': {'type': 'number'}, 'name': {'type': 'string'}, 'city': {'type': 'string'}, 'country': {'type': 'string'}, 'iata': {'type': 'string'}, 'icao': {'type': 'string'}, 'latitude': {'type': 'number'}, 'longitude': {'type': 'number'}, 'altitude': {'type': 'number'}, 'timezone': {'type': 'string'}, 'dst': {'type': 'string'}, 'tz_id': {'type': 'string'}, 'type': {'type': 'string'}, 'source': {'type': 'string'}}, 'dst_airport': {'airport_id': {'type': 'number'}, 'name': {'type': 'string'}, 'city': {'type': 'string'}, 'country': {'type': 'string'}, 'iata': {'type': 'string'}, 'icao': {'type': 'string'}, 'latitude': {'type': 'number'}, 'longitude': {'type': 'number'}, 'altitude': {'type': 'number'}, 'timezone': {'type': 'number'}, 'dst': {'type': 'string'}, 'tz_id': {'type': 'string'}, 'type': {'type': 'string'}, 'source': {'type': 'string'}}, 'codeshare': {'type': 'boolean'}, 'equipment': {'type': 'array', 'items': {'type': 'string'}}}\n"
     ]
    }
   ],
   "source": [
    "print(schema)"
   ]
  },
  {
   "cell_type": "code",
   "execution_count": 72,
   "metadata": {},
   "outputs": [],
   "source": []
  },
  {
   "cell_type": "code",
   "execution_count": null,
   "metadata": {},
   "outputs": [],
   "source": []
  }
 ],
 "metadata": {
  "kernelspec": {
   "display_name": "Python 3",
   "language": "python",
   "name": "python3"
  },
  "language_info": {
   "codemirror_mode": {
    "name": "ipython",
    "version": 3
   },
   "file_extension": ".py",
   "mimetype": "text/x-python",
   "name": "python",
   "nbconvert_exporter": "python",
   "pygments_lexer": "ipython3",
   "version": "3.8.3"
  }
 },
 "nbformat": 4,
 "nbformat_minor": 4
}
