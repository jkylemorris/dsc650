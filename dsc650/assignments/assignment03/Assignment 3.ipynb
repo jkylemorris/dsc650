{
 "cells": [
  {
   "cell_type": "markdown",
   "metadata": {},
   "source": [
    "# Assignment 3"
   ]
  },
  {
   "cell_type": "markdown",
   "metadata": {},
   "source": [
    "Import libraries and define common helper functions"
   ]
  },
  {
   "cell_type": "code",
   "execution_count": 1,
   "metadata": {
    "scrolled": true
   },
   "outputs": [],
   "source": [
    "import os\n",
    "import sys\n",
    "import gzip\n",
    "import json\n",
    "from pathlib import Path\n",
    "import csv\n",
    "\n",
    "import pandas as pd\n",
    "import s3fs\n",
    "import pyarrow as pa\n",
    "from pyarrow.json import read_json\n",
    "import pyarrow.parquet as pq\n",
    "import fastavro\n",
    "import pygeohash\n",
    "import snappy\n",
    "import jsonschema\n",
    "from jsonschema.exceptions import ValidationError\n",
    "\n",
    "\n",
    "endpoint_url='https://storage.budsc.midwest-datascience.com'\n",
    "\n",
    "current_dir = Path(os.getcwd()).absolute()\n",
    "schema_dir = current_dir.joinpath('schemas')\n",
    "results_dir = current_dir.joinpath('results')\n",
    "results_dir.mkdir(parents=True, exist_ok=True)\n",
    "\n",
    "\n",
    "def read_jsonl_data():\n",
    "    s3 = s3fs.S3FileSystem(\n",
    "        anon=True,\n",
    "        client_kwargs={\n",
    "            'endpoint_url': endpoint_url\n",
    "        }\n",
    "    )\n",
    "    src_data_path = 'data/processed/openflights/routes.jsonl.gz'\n",
    "    with s3.open(src_data_path, 'rb') as f_gz:\n",
    "        with gzip.open(f_gz, 'rb') as f:\n",
    "            records = [json.loads(line) for line in f.readlines()]\n",
    "        \n",
    "\n",
    "    return records"
   ]
  },
  {
   "cell_type": "markdown",
   "metadata": {},
   "source": [
    "Load the records from https://storage.budsc.midwest-datascience.com/data/processed/openflights/routes.jsonl.gz "
   ]
  },
  {
   "cell_type": "code",
   "execution_count": 2,
   "metadata": {},
   "outputs": [],
   "source": [
    "records = read_jsonl_data()"
   ]
  },
  {
   "cell_type": "markdown",
   "metadata": {},
   "source": [
    "## 3.1"
   ]
  },
  {
   "cell_type": "markdown",
   "metadata": {},
   "source": [
    "### 3.1.a JSON Schema"
   ]
  },
  {
   "cell_type": "code",
   "execution_count": 3,
   "metadata": {
    "scrolled": true
   },
   "outputs": [],
   "source": [
    "def validate_jsonl_data(records):\n",
    "    schema_path = schema_dir.joinpath('routes-schema.json')\n",
    "    validation_csv_path = results_dir.joinpath('validation-results.csv')\n",
    "    with open(schema_path) as f:\n",
    "        schema = json.load(f)\n",
    "        \n",
    "    with open(validation_csv_path, 'w') as f:\n",
    "        fieldnames = ['row_num', 'is_valid', 'msg']\n",
    "        csv_writer = csv.DictWriter(f, fieldnames=fieldnames)\n",
    "        csv_writer.writeheader()\n",
    "        \n",
    "        for i, record in enumerate(records):\n",
    "            try:\n",
    "                ## TODO: Validate record \n",
    "                #print(\"record is: \\n\",record)\n",
    "            \n",
    "                jsonschema.validate(instance=record, schema=schema)\n",
    "                \n",
    "                #result = dict(\n",
    "                    ## TODO\n",
    "                #   row_num = i,\n",
    "                #    is_valid = True,\n",
    "                #   msg = \"Record is valid.\"\n",
    "                #)\n",
    "                \n",
    "                \n",
    "            except ValidationError as e:\n",
    "                ## Print message if invalid record\n",
    "                print(\"Invalid record found at row: \",i)\n",
    "                result = dict(\n",
    "                    ## TODO\n",
    "                    row_num = i,\n",
    "                    is_valid = False,\n",
    "                    msg = e\n",
    "                )\n",
    "                print(i)\n",
    "                csv_writer.writerow(result)\n",
    "            \n",
    "\n",
    "validate_jsonl_data(records)"
   ]
  },
  {
   "cell_type": "markdown",
   "metadata": {},
   "source": [
    "### 3.1.b Avro"
   ]
  },
  {
   "cell_type": "code",
   "execution_count": 4,
   "metadata": {},
   "outputs": [],
   "source": [
    "def create_avro_dataset(records):\n",
    "    schema_path = schema_dir.joinpath('routes.avsc')\n",
    "    data_path = results_dir.joinpath('routes.avro')\n",
    "    ## TODO: Use fastavro to create Avro dataset\n",
    "    with open(schema_path) as f:\n",
    "        schema = json.load(f)\n",
    "    parsed_schema = fastavro.parse_schema(schema)\n",
    "    \n",
    "    with open(data_path, 'wb') as out:\n",
    "        fastavro.writer(out, parsed_schema, records)\n",
    "    \n",
    "        \n",
    "create_avro_dataset(records)"
   ]
  },
  {
   "cell_type": "markdown",
   "metadata": {},
   "source": [
    "### 3.1.c Parquet"
   ]
  },
  {
   "cell_type": "code",
   "execution_count": 5,
   "metadata": {},
   "outputs": [],
   "source": [
    "def create_parquet_dataset():\n",
    "    src_data_path = 'data/processed/openflights/routes.jsonl.gz'\n",
    "    parquet_output_path = results_dir.joinpath('routes.parquet')\n",
    "    s3 = s3fs.S3FileSystem(\n",
    "        anon=True,\n",
    "        client_kwargs={\n",
    "            'endpoint_url': endpoint_url\n",
    "        }\n",
    "    )\n",
    "    \n",
    "    with s3.open(src_data_path, 'rb') as f_gz:\n",
    "        with gzip.open(f_gz, 'rb') as f:\n",
    "            pass\n",
    "            table = read_json(f)\n",
    "            ## TODO: Use Apache Arrow to create Parquet table and save the dataset\n",
    "    #print(table)\n",
    "    pq.write_table(table, parquet_output_path)\n",
    "    #df = table.to_pandas()\n",
    "    #print(df.head())\n",
    "create_parquet_dataset()"
   ]
  },
  {
   "cell_type": "markdown",
   "metadata": {},
   "source": [
    "### 3.1.d Protocol Buffers"
   ]
  },
  {
   "cell_type": "code",
   "execution_count": 6,
   "metadata": {},
   "outputs": [],
   "source": [
    "sys.path.insert(0, os.path.abspath('routes_pb2'))\n",
    "\n",
    "import routes_pb2\n",
    "\n",
    "def _airport_to_proto_obj(airport):\n",
    "    obj = routes_pb2.Airport()\n",
    "    if airport is None:\n",
    "        return None\n",
    "    if airport.get('airport_id') is None:\n",
    "        return None\n",
    "\n",
    "    obj.airport_id = airport.get('airport_id')\n",
    "    if airport.get('name'):\n",
    "        obj.name = airport.get('name')\n",
    "    if airport.get('city'):\n",
    "        obj.city = airport.get('city')\n",
    "    if airport.get('iata'):\n",
    "        obj.iata = airport.get('iata')\n",
    "    if airport.get('icao'):\n",
    "        obj.icao = airport.get('icao')\n",
    "    if airport.get('altitude'):\n",
    "        obj.altitude = airport.get('altitude')\n",
    "    if airport.get('timezone'):\n",
    "        obj.timezone = airport.get('timezone')\n",
    "    if airport.get('dst'):\n",
    "        obj.dst = airport.get('dst')\n",
    "    if airport.get('tz_id'):\n",
    "        obj.tz_id = airport.get('tz_id')\n",
    "    if airport.get('type'):\n",
    "        obj.type = airport.get('type')\n",
    "    if airport.get('source'):\n",
    "        obj.source = airport.get('source')\n",
    "\n",
    "    obj.latitude = airport.get('latitude')\n",
    "    obj.longitude = airport.get('longitude')\n",
    "\n",
    "    return obj\n",
    "\n",
    "\n",
    "def _airline_to_proto_obj(airline):\n",
    "    obj = routes_pb2.Airline()\n",
    "    if airline is None:\n",
    "        return None\n",
    "    if airline.get('airline_id') is None:\n",
    "        return None\n",
    "    \n",
    "    obj.airline_id = airline.get('airline_id')\n",
    "    if airline.get('name'):\n",
    "        obj.name = airline.get('name')\n",
    "    if airline.get('alias'):\n",
    "        obj.alias = airline.get('alias')\n",
    "    if airline.get('iata'):\n",
    "        obj.iata = airline.get('iata')\n",
    "    if airline.get('icao'):\n",
    "        obj.icao = airline.get('icao')\n",
    "    if airline.get('callsign'):\n",
    "        obj.callsign = airline.get('callsign')\n",
    "    if airline.get('country'):\n",
    "        obj.country = airline.get('country')\n",
    "\n",
    "    obj.active = airline.get('active')\n",
    "    \n",
    "    ## TODO: Create an Airline obj using Protocol Buffers API\n",
    "    return obj\n",
    "\n",
    "\n",
    "def create_protobuf_dataset(records):\n",
    "    routes = routes_pb2.Routes()\n",
    "    for record in records:\n",
    "        route = routes_pb2.Route()\n",
    "       \n",
    "        ## TODO: Implement the code to create the Protocol Buffers Dataset\n",
    "        airline = _airline_to_proto_obj(record.get('airline', {}))\n",
    "        source_airport = _airport_to_proto_obj(record.get('src_airport', {}))\n",
    "        dest_airport = _airport_to_proto_obj(record.get('dst_airport', {}))\n",
    "        if (not airline is None):\n",
    "            route.airline.CopyFrom(airline)\n",
    "        if (not source_airport is None):\n",
    "            route.src_airport.CopyFrom(source_airport)\n",
    "        if (not dest_airport is None):\n",
    "            route.dst_airport.CopyFrom(dest_airport)\n",
    "        if record.get('codeshare'):\n",
    "            route.codeshare = record.get('codeshare')\n",
    "        else:\n",
    "            route.codeshare = False\n",
    "        if record.get('stops') is not None:\n",
    "            route.stops = record.get('stops')\n",
    "        #print(record)\n",
    "       # route.stops = 0 # The data doesn't appear to have multistop flights?\n",
    "        if record.get('equipment'):\n",
    "            route.equipment.extend(record.get('equipment'))\n",
    "        #print(route)\n",
    "        routes.route.append(route)\n",
    "\n",
    "    data_path = results_dir.joinpath('routes.pb')\n",
    "\n",
    "    with open(data_path, 'wb') as f:\n",
    "        f.write(routes.SerializeToString())\n",
    "        \n",
    "    compressed_path = results_dir.joinpath('routes.pb.snappy')\n",
    "    \n",
    "    with open(compressed_path, 'wb') as f:\n",
    "        f.write(snappy.compress(routes.SerializeToString()))\n",
    "        \n",
    "create_protobuf_dataset(records)"
   ]
  },
  {
   "cell_type": "markdown",
   "metadata": {},
   "source": [
    "## 3.2"
   ]
  },
  {
   "cell_type": "markdown",
   "metadata": {},
   "source": [
    "### 3.2.a Simple Geohash Index"
   ]
  },
  {
   "cell_type": "code",
   "execution_count": 7,
   "metadata": {},
   "outputs": [],
   "source": [
    "def create_hash_dirs(records):\n",
    "    geoindex_dir = results_dir.joinpath('geoindex')\n",
    "    geoindex_dir.mkdir(exist_ok=True, parents=True)\n",
    "    hashes = []\n",
    "    ## TODO: Create hash index\n",
    "    for record in records:\n",
    "        source_airport = record.get('src_airport', {})\n",
    "        if not source_airport is None:\n",
    "            latitude = source_airport.get('latitude')\n",
    "            longitude = source_airport.get('longitude')\n",
    "        if not latitude is None and not longitude is None:\n",
    "            location = pygeohash.encode(latitude, longitude, precision = 3)\n",
    "            record['geohash'] = location\n",
    "            if not location in hashes:\n",
    "                hashes.append(location)\n",
    "    hashes.sort()\n",
    "    #print(hashes)\n",
    "    \n",
    "    index_hash = {value: [] for value in hashes}\n",
    "    \n",
    "    for record in records:\n",
    "        location = record.get('geohash')\n",
    "        if location:\n",
    "            index_hash[location].append(record)\n",
    "    \n",
    "    #print(index_hash['ucf'])\n",
    "    for (key, values) in index_hash.items():\n",
    "        output_dir = geoindex_dir.joinpath(key[0]).joinpath(key[0:2]) \n",
    "        #print(first_dir)\n",
    "        output_dir.mkdir(exist_ok=True, parents=True)\n",
    "        output = output_dir.joinpath('{}.jsonl.gz'.format(key))\n",
    "        #print(output_path)\n",
    "        \n",
    "        with gzip.open(output, 'w') as f:\n",
    "            json_output = '\\n'.join([json.dumps(line) for line in values])\n",
    "            f.write(json_output.encode('utf-8'))\n",
    "    \n",
    "    \n",
    "create_hash_dirs(records)\n"
   ]
  },
  {
   "cell_type": "markdown",
   "metadata": {},
   "source": [
    "### 3.2.b Simple Search Feature"
   ]
  },
  {
   "cell_type": "code",
   "execution_count": 8,
   "metadata": {},
   "outputs": [
    {
     "name": "stdout",
     "output_type": "stream",
     "text": [
      "The closest airport is:  Eppley Airfield \n",
      "It is located  19.545 KM from your search location.\n"
     ]
    }
   ],
   "source": [
    "def airport_search(latitude, longitude):\n",
    "    ## TODO: Create simple search to return nearest airport\n",
    "    target = pygeohash.encode(latitude, longitude, precision = 5)\n",
    "    distance = 20000001\n",
    "    closest = \"None\"\n",
    "    for record in records:\n",
    "        airport = record.get('src_airport')\n",
    "        if airport:\n",
    "            longitude = airport.get('longitude')\n",
    "            latitude = airport.get('latitude')\n",
    "            if longitude and latitude:\n",
    "                location = pygeohash.encode(latitude, longitude, precision = 5) \n",
    "        #print(counter, '\\n',location, '\\n', target)\n",
    "        crow = pygeohash.geohash_approximate_distance(location, target)\n",
    "        #print(crow)\n",
    "        if crow < distance:\n",
    "            distance = crow\n",
    "            closest = airport.get('name')\n",
    "       # print(location, \"\\ntarget: \",target, \"\\ndistance:\", crow)\n",
    "    #print(distance)\n",
    "    print(\"The closest airport is: \",closest,\"\\nIt is located \", distance/1000,\"KM from your search location.\")\n",
    "    \n",
    "    \n",
    "airport_search(41.1499988, -95.91779)\n",
    "\n",
    "#airport_search(27.918710, -80.629000)"
   ]
  },
  {
   "cell_type": "code",
   "execution_count": 70,
   "metadata": {},
   "outputs": [
    {
     "data": {
      "text/plain": [
       "625441"
      ]
     },
     "execution_count": 70,
     "metadata": {},
     "output_type": "execute_result"
    }
   ],
   "source": []
  },
  {
   "cell_type": "code",
   "execution_count": 78,
   "metadata": {},
   "outputs": [
    {
     "data": {
      "text/plain": [
       "5003530"
      ]
     },
     "execution_count": 78,
     "metadata": {},
     "output_type": "execute_result"
    }
   ],
   "source": []
  },
  {
   "cell_type": "code",
   "execution_count": null,
   "metadata": {},
   "outputs": [],
   "source": []
  }
 ],
 "metadata": {
  "kernelspec": {
   "display_name": "Python 3",
   "language": "python",
   "name": "python3"
  },
  "language_info": {
   "codemirror_mode": {
    "name": "ipython",
    "version": 3
   },
   "file_extension": ".py",
   "mimetype": "text/x-python",
   "name": "python",
   "nbconvert_exporter": "python",
   "pygments_lexer": "ipython3",
   "version": "3.8.3"
  }
 },
 "nbformat": 4,
 "nbformat_minor": 4
}
