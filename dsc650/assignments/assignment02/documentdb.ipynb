{
 "cells": [
  {
   "cell_type": "code",
   "execution_count": 7,
   "metadata": {},
   "outputs": [],
   "source": [
    "from pathlib import Path\n",
    "import json\n",
    "import os\n",
    "from tinydb import TinyDB\n",
    "current_dir = Path(os.getcwd()).absolute()\n",
    "results_dir = current_dir.joinpath('results')\n",
    "kv_data_dir = results_dir.joinpath('kvdb')\n",
    "kv_data_dir.mkdir(parents=True, exist_ok=True)\n",
    "def _load_json(json_path):\n",
    "    with open(json_path) as f:\n",
    "        return json.load(f)\n",
    "class DocumentDB(object):\n",
    "    def __init__(self, db_path):\n",
    "        people_json = kv_data_dir.joinpath('people.json')\n",
    "        visited_json = kv_data_dir.joinpath('visited.json')\n",
    "        sites_json = kv_data_dir.joinpath('sites.json')\n",
    "        measurements_json = kv_data_dir.joinpath('measurements.json')\n",
    "        self._db_path = Path(db_path)\n",
    "        self._db = None\n",
    "        self._person_lookup = _load_json(people_json)\n",
    "        self._measurements_lookup = _load_json(measurements_json)\n",
    "        self._site_lookup = _load_json(sites_json)\n",
    "        self._visit_lookup = _load_json(visited_json)\n",
    "        ## TODO: Implement code\n",
    "        self._load_db()\n",
    "    def _get_site(self, site_id):\n",
    "        return self._site_lookup[str(site_id)]\n",
    "    def _get_measurements(self, person_id):\n",
    "        measurements = []\n",
    "        for values in self._measurements_lookup.values():\n",
    "            #print(values)\n",
    "            if str(values['person_id']) == str(person_id):\n",
    "                measurements.append(dict(values))\n",
    "        return measurements\n",
    "    def _get_visit(self, visit_id):\n",
    "        for value in self._visit_lookup:\n",
    "            if(str(visit_id) in value):\n",
    "                visit = self._visit_lookup.get(value)\n",
    "        site_id = str(visit['site_id'])\n",
    "        site = self._site_lookup[site_id]\n",
    "        visit['site'] = site\n",
    "        return visit\n",
    "    def _load_db(self):\n",
    "        self._db = TinyDB(self._db_path, sort_keys=True, indent=4, separators=(',', ': '))\n",
    "        persons = self._person_lookup.items()\n",
    "        for person_id, record in persons:\n",
    "            measurements = self._get_measurements(person_id)\n",
    "            visit_ids = set([measurement['visit_id'] for measurement in measurements])\n",
    "            visits = []\n",
    "            for visit_id in visit_ids:\n",
    "                visit = self._get_visit(visit_id)\n",
    "                visit['measurements'] = [\n",
    "                    measurement for measurement in measurements\n",
    "                    if visit_id == measurement['visit_id']\n",
    "                ]\n",
    "                visits.append(visit)\n",
    "            record['visits'] = visits\n",
    "            self._db.insert(record)\n",
    "        \n",
    "        "
   ]
  },
  {
   "cell_type": "code",
   "execution_count": 8,
   "metadata": {},
   "outputs": [],
   "source": [
    "db_path = results_dir.joinpath('patient-info.json')\n",
    "if db_path.exists():\n",
    "    os.remove(db_path)\n",
    "db = DocumentDB(db_path)"
   ]
  },
  {
   "cell_type": "code",
   "execution_count": 3,
   "metadata": {},
   "outputs": [
    {
     "name": "stdout",
     "output_type": "stream",
     "text": [
      "Collecting tinydb\n",
      "  Downloading https://files.pythonhosted.org/packages/b6/f6/b3e112addc8eb4a097f158124ce8b206767361a381f80c5f0c506d855e4a/tinydb-4.1.1-py3-none-any.whl\n",
      "Installing collected packages: tinydb\n",
      "Successfully installed tinydb-4.1.1\n"
     ]
    }
   ],
   "source": [
    "!pip install tinydb"
   ]
  },
  {
   "cell_type": "code",
   "execution_count": null,
   "metadata": {},
   "outputs": [],
   "source": []
  }
 ],
 "metadata": {
  "kernelspec": {
   "display_name": "Python 3",
   "language": "python",
   "name": "python3"
  },
  "language_info": {
   "codemirror_mode": {
    "name": "ipython",
    "version": 3
   },
   "file_extension": ".py",
   "mimetype": "text/x-python",
   "name": "python",
   "nbconvert_exporter": "python",
   "pygments_lexer": "ipython3",
   "version": "3.7.1"
  }
 },
 "nbformat": 4,
 "nbformat_minor": 4
}
