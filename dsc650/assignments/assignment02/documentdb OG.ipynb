{
 "cells": [
  {
   "cell_type": "code",
   "execution_count": 3,
   "metadata": {},
   "outputs": [],
   "source": [
    "from pathlib import Path\n",
    "import json\n",
    "import os\n",
    "\n",
    "from tinydb import TinyDB\n",
    "\n",
    "current_dir = Path(os.getcwd()).absolute()\n",
    "results_dir = current_dir.joinpath('results')\n",
    "kv_data_dir = results_dir.joinpath('kvdb')\n",
    "kv_data_dir.mkdir(parents=True, exist_ok=True)\n",
    "\n",
    "\n",
    "class DocumentDB(object):\n",
    "    def __init__(self, db_path):\n",
    "        ## You can use the code from the previous exmaple if you would like\n",
    "        people_json = kv_data_dir.joinpath('people.json')\n",
    "        visited_json = kv_data_dir.joinpath('visited.json')\n",
    "        sites_json = kv_data_dir.joinpath('sites.json')\n",
    "        measurements_json = kv_data_dir.joinpath('measurements.json')  \n",
    "    \n",
    "        self._db_path = Path(db_path)\n",
    "        self._db = None\n",
    "        ## TODO: Implement code\n",
    "        people_dict = self._open_json(people_json)\n",
    "        visited_dict = self._open_json(visited_json)\n",
    "        sites_dict = self._open_json(sites_json)\n",
    "        measurements_dict = self._open_json(measurements_json)\n",
    "        self._load_db()\n",
    "        self._db.insert(people_dict)\n",
    "        self._db.insert(visited_dict)\n",
    "        self._db.insert(sites_dict)\n",
    "        self._db.insert(measurements_dict)\n",
    "        \n",
    "        \n",
    "        \n",
    "\n",
    "    def _load_db(self):\n",
    "        self._db = TinyDB(self._db_path)\n",
    "        ## TODO: Implement code\n",
    "        #self._db.insert(self.people_dict)\n",
    "        \n",
    "    \n",
    "    def _open_json(self, path):\n",
    "        with open(path) as json_file:\n",
    "            data = json.load(json_file)\n",
    "        return data\n",
    "        "
   ]
  },
  {
   "cell_type": "code",
   "execution_count": 4,
   "metadata": {},
   "outputs": [],
   "source": [
    "db_path = results_dir.joinpath('patient-info.json')\n",
    "if db_path.exists():\n",
    "    os.remove(db_path)\n",
    "\n",
    "db = DocumentDB(db_path)"
   ]
  },
  {
   "cell_type": "code",
   "execution_count": null,
   "metadata": {},
   "outputs": [],
   "source": []
  },
  {
   "cell_type": "code",
   "execution_count": null,
   "metadata": {},
   "outputs": [],
   "source": []
  }
 ],
 "metadata": {
  "kernelspec": {
   "display_name": "Python 3",
   "language": "python",
   "name": "python3"
  },
  "language_info": {
   "codemirror_mode": {
    "name": "ipython",
    "version": 3
   },
   "file_extension": ".py",
   "mimetype": "text/x-python",
   "name": "python",
   "nbconvert_exporter": "python",
   "pygments_lexer": "ipython3",
   "version": "3.8.3"
  }
 },
 "nbformat": 4,
 "nbformat_minor": 4
}
